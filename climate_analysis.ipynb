{
 "cells": [
  {
   "cell_type": "markdown",
   "metadata": {},
   "source": [
    "## Step 3 - Climate Analysis and Exploration"
   ]
  },
  {
   "cell_type": "code",
   "execution_count": 1,
   "metadata": {
    "collapsed": true
   },
   "outputs": [],
   "source": [
    "# Import SQLAlchemy `automap` and other dependencies here\n",
    "import sqlalchemy\n",
    "from sqlalchemy.ext.automap import automap_base\n",
    "from sqlalchemy.orm import Session\n",
    "from sqlalchemy import create_engine, inspect\n",
    "from sqlalchemy import desc\n",
    "from sqlalchemy import func\n",
    "\n",
    "import pandas as pd\n",
    "import numpy as np\n",
    "import matplotlib.pyplot as plt\n",
    "from datetime import datetime"
   ]
  },
  {
   "cell_type": "code",
   "execution_count": 2,
   "metadata": {
    "collapsed": true
   },
   "outputs": [],
   "source": [
    "# Create an engine for the `hawaii.sqlite` database\n",
    "engine = create_engine(\"sqlite:///hawaii.sqlite\")"
   ]
  },
  {
   "cell_type": "code",
   "execution_count": 3,
   "metadata": {},
   "outputs": [
    {
     "data": {
      "text/plain": [
       "['Measurements', 'Stations']"
      ]
     },
     "execution_count": 3,
     "metadata": {},
     "output_type": "execute_result"
    }
   ],
   "source": [
    "# Use automap_base() to reflect hawaii.sqlite DB tables into classes\n",
    "Base = automap_base()\n",
    "Base.prepare(engine, reflect = True)\n",
    "session = Session(bind=engine)\n",
    "Base.classes.keys()"
   ]
  },
  {
   "cell_type": "code",
   "execution_count": 4,
   "metadata": {
    "collapsed": true
   },
   "outputs": [],
   "source": [
    "# save a reference to the classes\n",
    "Measurement = Base.classes.Measurements\n",
    "Station = Base.classes.Stations"
   ]
  },
  {
   "cell_type": "code",
   "execution_count": 5,
   "metadata": {},
   "outputs": [
    {
     "name": "stdout",
     "output_type": "stream",
     "text": [
      "Start Date: 2017-08-23 End Date: 2016-09-30\n"
     ]
    }
   ],
   "source": [
    "# get date range for last 12 months of data\n",
    "# start date\n",
    "start_date = session.query(Measurement.date).order_by(desc(Measurement.date)).first()\n",
    "start_date = np.ravel(start_date)[0]\n",
    "# end_date\n",
    "records = session.query(Measurement.date, func.avg(Measurement.prcp))\\\n",
    "          .group_by(func.strftime('%Y-%m', Measurement.date))\\\n",
    "          .order_by(Measurement.date.desc()).limit(12).all()\n",
    "end_date = np.ravel(records[11])[0]\n",
    "print(f'Start Date: {start_date} End Date: {end_date}')"
   ]
  },
  {
   "cell_type": "markdown",
   "metadata": {},
   "source": [
    "## 1) Precipitation Analysis"
   ]
  },
  {
   "cell_type": "code",
   "execution_count": 6,
   "metadata": {
    "collapsed": true
   },
   "outputs": [],
   "source": [
    "# retrieve the last 12 months of precipitation data\n",
    "precipitation = session.query(Measurement.date, Measurement.prcp).filter(Measurement.date.between(end_date, start_date)).all()"
   ]
  },
  {
   "cell_type": "code",
   "execution_count": 7,
   "metadata": {},
   "outputs": [
    {
     "name": "stdout",
     "output_type": "stream",
     "text": [
      "Precipitation    1801\n",
      "dtype: int64\n"
     ]
    },
    {
     "data": {
      "text/html": [
       "<div>\n",
       "<style scoped>\n",
       "    .dataframe tbody tr th:only-of-type {\n",
       "        vertical-align: middle;\n",
       "    }\n",
       "\n",
       "    .dataframe tbody tr th {\n",
       "        vertical-align: top;\n",
       "    }\n",
       "\n",
       "    .dataframe thead th {\n",
       "        text-align: right;\n",
       "    }\n",
       "</style>\n",
       "<table border=\"1\" class=\"dataframe\">\n",
       "  <thead>\n",
       "    <tr style=\"text-align: right;\">\n",
       "      <th></th>\n",
       "      <th>Precipitation</th>\n",
       "    </tr>\n",
       "    <tr>\n",
       "      <th>Date</th>\n",
       "      <th></th>\n",
       "    </tr>\n",
       "  </thead>\n",
       "  <tbody>\n",
       "    <tr>\n",
       "      <th>2016-09-30</th>\n",
       "      <td>0.0</td>\n",
       "    </tr>\n",
       "    <tr>\n",
       "      <th>2016-10-01</th>\n",
       "      <td>0.0</td>\n",
       "    </tr>\n",
       "    <tr>\n",
       "      <th>2016-10-02</th>\n",
       "      <td>0.0</td>\n",
       "    </tr>\n",
       "    <tr>\n",
       "      <th>2016-10-03</th>\n",
       "      <td>0.0</td>\n",
       "    </tr>\n",
       "    <tr>\n",
       "      <th>2016-10-04</th>\n",
       "      <td>0.0</td>\n",
       "    </tr>\n",
       "  </tbody>\n",
       "</table>\n",
       "</div>"
      ],
      "text/plain": [
       "            Precipitation\n",
       "Date                     \n",
       "2016-09-30            0.0\n",
       "2016-10-01            0.0\n",
       "2016-10-02            0.0\n",
       "2016-10-03            0.0\n",
       "2016-10-04            0.0"
      ]
     },
     "execution_count": 7,
     "metadata": {},
     "output_type": "execute_result"
    }
   ],
   "source": [
    "# load the results into a Dataframe\n",
    "precipitation_df = pd.DataFrame.from_records(precipitation)\n",
    "precipitation_df = precipitation_df.rename(columns={0: 'Date', 1: 'Precipitation'})\n",
    "# Set the index to the Date column\n",
    "precipitation_df = precipitation_df.set_index('Date')\n",
    "print(precipitation_df.count())\n",
    "precipitation_df.head()"
   ]
  },
  {
   "cell_type": "code",
   "execution_count": 8,
   "metadata": {},
   "outputs": [
    {
     "data": {
      "image/png": "[encoded data removed]",
      "text/plain": [
       "<matplotlib.figure.Figure at 0x27bcd3df518>"
      ]
     },
     "metadata": {},
     "output_type": "display_data"
    }
   ],
   "source": [
    "# Plot the results using the DataFrame\n",
    "plt.style.use('ggplot')\n",
    "precipitation_df.plot(figsize = (18,8), color = 'blue', rot = 340)\n",
    "plt.show()"
   ]
  },
  {
   "cell_type": "code",
   "execution_count": 9,
   "metadata": {},
   "outputs": [
    {
     "data": {
      "text/plain": [
       "count    1801.000000\n",
       "mean        0.160589\n",
       "std         0.424107\n",
       "min         0.000000\n",
       "25%         0.000000\n",
       "50%         0.010000\n",
       "75%         0.120000\n",
       "max         6.250000\n",
       "Name: Precipitation, dtype: float64"
      ]
     },
     "execution_count": 9,
     "metadata": {},
     "output_type": "execute_result"
    }
   ],
   "source": [
    "# summary statistics for the precipitation data\n",
    "precipitation_df[\"Precipitation\"].describe()"
   ]
  },
  {
   "cell_type": "markdown",
   "metadata": {},
   "source": [
    "## 2) Station Analysis"
   ]
  },
  {
   "cell_type": "code",
   "execution_count": 10,
   "metadata": {},
   "outputs": [
    {
     "data": {
      "text/plain": [
       "9"
      ]
     },
     "execution_count": 10,
     "metadata": {},
     "output_type": "execute_result"
    }
   ],
   "source": [
    "# query to calculate the total number of stations\n",
    "stations_count = session.query(Station.station, Station.name, Station.latitude, Station.longitude, Station.elevation).count()\n",
    "stations_count"
   ]
  },
  {
   "cell_type": "code",
   "execution_count": 11,
   "metadata": {},
   "outputs": [
    {
     "data": {
      "text/plain": [
       "[('USC00519281', 2772),\n",
       " ('USC00513117', 2696),\n",
       " ('USC00519397', 2685),\n",
       " ('USC00519523', 2572),\n",
       " ('USC00516128', 2484),\n",
       " ('USC00514830', 1937),\n",
       " ('USC00511918', 1932),\n",
       " ('USC00517948', 683),\n",
       " ('USC00518838', 342)]"
      ]
     },
     "execution_count": 11,
     "metadata": {},
     "output_type": "execute_result"
    }
   ],
   "source": [
    "# query to find the most active stations\n",
    "active_stations = session.query(Measurement.station, func.count(Measurement.tobs).label('Observations'))\\\n",
    "                  .group_by(Measurement.station).order_by(desc(func.count(Measurement.tobs))).all()\n",
    "    \n",
    "# List the stations and observation counts in descending order\n",
    "active_stations"
   ]
  },
  {
   "cell_type": "code",
   "execution_count": 12,
   "metadata": {},
   "outputs": [
    {
     "data": {
      "text/plain": [
       "'USC00519281'"
      ]
     },
     "execution_count": 12,
     "metadata": {},
     "output_type": "execute_result"
    }
   ],
   "source": [
    "# station that has the highest number of observations\n",
    "most_active = np.ravel(active_stations)[0]\n",
    "most_active"
   ]
  },
  {
   "cell_type": "code",
   "execution_count": 13,
   "metadata": {
    "collapsed": true
   },
   "outputs": [],
   "source": [
    "# Filter by the station with the highest number of observations\n",
    "observation_data = session.query(Measurement.station, Measurement.date, Measurement.tobs).\\\n",
    "filter(Measurement.date.between(end_date, start_date)).\\\n",
    "filter(Measurement.station == most_active).all()"
   ]
  },
  {
   "cell_type": "code",
   "execution_count": 14,
   "metadata": {},
   "outputs": [
    {
     "name": "stdout",
     "output_type": "stream",
     "text": [
      "Station         314\n",
      "Date            314\n",
      "Observations    314\n",
      "dtype: int64\n"
     ]
    },
    {
     "data": {
      "text/html": [
       "<div>\n",
       "<style scoped>\n",
       "    .dataframe tbody tr th:only-of-type {\n",
       "        vertical-align: middle;\n",
       "    }\n",
       "\n",
       "    .dataframe tbody tr th {\n",
       "        vertical-align: top;\n",
       "    }\n",
       "\n",
       "    .dataframe thead th {\n",
       "        text-align: right;\n",
       "    }\n",
       "</style>\n",
       "<table border=\"1\" class=\"dataframe\">\n",
       "  <thead>\n",
       "    <tr style=\"text-align: right;\">\n",
       "      <th></th>\n",
       "      <th>Station</th>\n",
       "      <th>Date</th>\n",
       "      <th>Observations</th>\n",
       "    </tr>\n",
       "  </thead>\n",
       "  <tbody>\n",
       "    <tr>\n",
       "      <th>0</th>\n",
       "      <td>USC00519281</td>\n",
       "      <td>2016-09-30</td>\n",
       "      <td>78</td>\n",
       "    </tr>\n",
       "    <tr>\n",
       "      <th>1</th>\n",
       "      <td>USC00519281</td>\n",
       "      <td>2016-10-01</td>\n",
       "      <td>77</td>\n",
       "    </tr>\n",
       "    <tr>\n",
       "      <th>2</th>\n",
       "      <td>USC00519281</td>\n",
       "      <td>2016-10-02</td>\n",
       "      <td>79</td>\n",
       "    </tr>\n",
       "    <tr>\n",
       "      <th>3</th>\n",
       "      <td>USC00519281</td>\n",
       "      <td>2016-10-03</td>\n",
       "      <td>79</td>\n",
       "    </tr>\n",
       "    <tr>\n",
       "      <th>4</th>\n",
       "      <td>USC00519281</td>\n",
       "      <td>2016-10-04</td>\n",
       "      <td>79</td>\n",
       "    </tr>\n",
       "  </tbody>\n",
       "</table>\n",
       "</div>"
      ],
      "text/plain": [
       "       Station        Date  Observations\n",
       "0  USC00519281  2016-09-30            78\n",
       "1  USC00519281  2016-10-01            77\n",
       "2  USC00519281  2016-10-02            79\n",
       "3  USC00519281  2016-10-03            79\n",
       "4  USC00519281  2016-10-04            79"
      ]
     },
     "execution_count": 14,
     "metadata": {},
     "output_type": "execute_result"
    }
   ],
   "source": [
    "# load the results into a dataframe\n",
    "observation_df = pd.DataFrame.from_records(observation_data)\n",
    "observation_df = observation_df.rename(columns={0: 'Station', 1: 'Date', 2:'Observations'})\n",
    "print(observation_df.count())\n",
    "observation_df.head()"
   ]
  },
  {
   "cell_type": "code",
   "execution_count": 15,
   "metadata": {},
   "outputs": [
    {
     "data": {
      "image/png": "[encoded data removed]",
      "text/plain": [
       "<matplotlib.figure.Figure at 0x27bce718ef0>"
      ]
     },
     "metadata": {},
     "output_type": "display_data"
    }
   ],
   "source": [
    "# Plot the results as a histogram with bins=12\n",
    "observation_df.plot.hist(by=observation_df.Observations, bins=12, color='blue', alpha = 0.4)\n",
    "plt.ylabel(\"Frequency\")\n",
    "plt.show()"
   ]
  },
  {
   "cell_type": "markdown",
   "metadata": {},
   "source": [
    "## 3) Temperature Analysis"
   ]
  },
  {
   "cell_type": "code",
   "execution_count": 16,
   "metadata": {
    "collapsed": true
   },
   "outputs": [],
   "source": [
    "# define calc_temps to calculate and return min, avg, max temp for a specified range of dates\n",
    "def calc_temps(start_date, end_date):\n",
    "    records = session.query(func.max(Measurement.tobs).label('max_temp'), func.avg(Measurement.tobs).label('avg_temp')\\\n",
    "                                ,func.min(Measurement.tobs).label('min_temp'))\\\n",
    "                  .filter(Measurement.date.between(end_date, start_date)).all()\n",
    "    return records"
   ]
  },
  {
   "cell_type": "code",
   "execution_count": 17,
   "metadata": {},
   "outputs": [
    {
     "data": {
      "text/html": [
       "<div>\n",
       "<style scoped>\n",
       "    .dataframe tbody tr th:only-of-type {\n",
       "        vertical-align: middle;\n",
       "    }\n",
       "\n",
       "    .dataframe tbody tr th {\n",
       "        vertical-align: top;\n",
       "    }\n",
       "\n",
       "    .dataframe thead th {\n",
       "        text-align: right;\n",
       "    }\n",
       "</style>\n",
       "<table border=\"1\" class=\"dataframe\">\n",
       "  <thead>\n",
       "    <tr style=\"text-align: right;\">\n",
       "      <th></th>\n",
       "      <th>Max. Temp.</th>\n",
       "      <th>Avg. Temp.</th>\n",
       "      <th>Min. Temp.</th>\n",
       "    </tr>\n",
       "  </thead>\n",
       "  <tbody>\n",
       "    <tr>\n",
       "      <th>0</th>\n",
       "      <td>87</td>\n",
       "      <td>74.099944</td>\n",
       "      <td>58</td>\n",
       "    </tr>\n",
       "  </tbody>\n",
       "</table>\n",
       "</div>"
      ],
      "text/plain": [
       "   Max. Temp.  Avg. Temp.  Min. Temp.\n",
       "0          87   74.099944          58"
      ]
     },
     "execution_count": 17,
     "metadata": {},
     "output_type": "execute_result"
    }
   ],
   "source": [
    "records = calc_temps(start_date, end_date)\n",
    "temperature_df = pd.DataFrame.from_records(records)\n",
    "temperature_df = temperature_df.rename(columns={0: 'Max. Temp.', 1: 'Avg. Temp.', 2:'Min. Temp.'})\n",
    "temperature_df"
   ]
  },
  {
   "cell_type": "code",
   "execution_count": 18,
   "metadata": {},
   "outputs": [
    {
     "data": {
      "image/png": "[encoded data removed]",
      "text/plain": [
       "<matplotlib.figure.Figure at 0x27bce80eb00>"
      ]
     },
     "metadata": {},
     "output_type": "display_data"
    }
   ],
   "source": [
    "# Plot the min, avg, and max temperature from your previous query as a bar chart\n",
    "mean = temperature_df[\"Avg. Temp.\"]\n",
    "err = (temperature_df[\"Max. Temp.\"] - temperature_df[\"Min. Temp.\"] ) * 0.35\n",
    "\n",
    "# Set Graph Properties\n",
    "fig, ax = plt.subplots()\n",
    "mean.plot.bar(yerr=err, color='coral', width=0.5, ax=ax, figsize=(3,7), alpha=0.6)\n",
    "plt.ylabel('Temp(F)')\n",
    "plt.title(\"Trip Avg Temp\")\n",
    "\n",
    "plt.grid(False, axis='x')\n",
    "plt.ylim(0,100)\n",
    "# Save the figure\n",
    "plt.savefig(\"Trip_Avg_Temp.png\")\n",
    "# Show Plot\n",
    "plt.show()"
   ]
  },
  {
   "cell_type": "markdown",
   "metadata": {},
   "source": [
    "## Step 4 - Climate App"
   ]
  },
  {
   "cell_type": "code",
   "execution_count": 19,
   "metadata": {
    "collapsed": true
   },
   "outputs": [],
   "source": [
    "# 1. import Flask\n",
    "from flask import Flask, jsonify\n",
    "# 2. Flask Setup - create an app, being sure to pass __name__\n",
    "app = Flask(__name__)"
   ]
  },
  {
   "cell_type": "code",
   "execution_count": 20,
   "metadata": {
    "collapsed": true
   },
   "outputs": [],
   "source": [
    "# Complete the routes for your app here\n",
    "# 3. Define what to do when a user hits the index route\n",
    "@app.route(\"/\")\n",
    "def welcome():\n",
    "    \"\"\"List all available api routes.\"\"\"\n",
    "    return (\n",
    "        f\"Available Routes:<br/><br/>\"\n",
    "        f\"/api/v1.0/precipitation - Precipitation<br/>\"\n",
    "\n",
    "        f\"/api/v1.0/stations\"\n",
    "        f\"- List of stations from the dataset<br/>\"\n",
    "\n",
    "        f\"/api/v1.0/tobs\"\n",
    "        f\"- Temperature Observations (tobs) for the previous year<br/>\"\n",
    "\n",
    "        f\"/api/v1.0/&ltstart&gt\"\n",
    "        f\"- Calculates MIN, AVG, and MAX temp. for all dates greater than and equal to the start date<br/>\"\n",
    "\n",
    "        f\"/api/v1.0/&ltstart&gt/&ltend&gt\"\n",
    "        f\"- Calculates MIN, AVG, and MAX temp. for a given start or start-end range<br/>\"\n",
    "    )"
   ]
  },
  {
   "cell_type": "code",
   "execution_count": 21,
   "metadata": {
    "collapsed": true
   },
   "outputs": [],
   "source": [
    "@app.route(\"/api/v1.0/precipitation\")\n",
    "def precipitation():\n",
    "    # prec_df = observation_df[[\"Date\", \"Observations\"]]\n",
    "    # prec_df = prec_df.set_index(\"Date\")\n",
    "    # return jsonify(prec_df.to_dict())\n",
    "    return jsonify(precipitation_df.to_dict())"
   ]
  },
  {
   "cell_type": "code",
   "execution_count": 22,
   "metadata": {
    "collapsed": true
   },
   "outputs": [],
   "source": [
    "@app.route(\"/api/v1.0/stations\")\n",
    "def stations():\n",
    "    records = session.query(Station.station, Station.name).all()\n",
    "    station_df = pd.DataFrame.from_records(records)\n",
    "    station_df = station_df.rename(columns={0: 'Station', 1: 'Name'})\n",
    "    return jsonify(station_df.to_dict())"
   ]
  },
  {
   "cell_type": "code",
   "execution_count": 23,
   "metadata": {
    "collapsed": true
   },
   "outputs": [],
   "source": [
    "@app.route(\"/api/v1.0/tobs\")\n",
    "def tobs():\n",
    "    tobs_df = observation_df[[\"Date\", \"Observations\"]]\n",
    "    tobs_df = tobs_df.set_index(\"Date\")\n",
    "    return jsonify(tobs_df.to_dict())"
   ]
  },
  {
   "cell_type": "code",
   "execution_count": 24,
   "metadata": {
    "collapsed": true
   },
   "outputs": [],
   "source": [
    "def calc_temp_s(start_date):\n",
    "    records = session.query(func.max(Measurement.tobs).label('max_temp'), func.avg(Measurement.tobs).label('avg_temp')\\\n",
    "                                ,func.min(Measurement.tobs).label('min_temp'))\\\n",
    "                  .filter(Measurement.date >= start_date).all()    \n",
    "    return records[0]"
   ]
  },
  {
   "cell_type": "code",
   "execution_count": 25,
   "metadata": {},
   "outputs": [],
   "source": [
    "@app.route(\"/api/v1.0/<start>\")\n",
    "def temp(start):\n",
    "    max_tmp, avg_tmp, min_tmp = calc_temp_s(start)\n",
    "    temp_dict = {\"Max. Temp.\": max_tmp,\n",
    "                 \"Avg. Temp.\": avg_tmp,\n",
    "                 \"Min. Temp.\": min_tmp}\n",
    "    return jsonify(temp_dict)"
   ]
  },
  {
   "cell_type": "code",
   "execution_count": 26,
   "metadata": {
    "collapsed": true
   },
   "outputs": [],
   "source": [
    "@app.route(\"/api/v1.0/<start>/<end>\")\n",
    "def calc_temp_se(start, end):\n",
    "    if datetime.strptime(start, '%Y-%m-%d') > datetime.strptime(end, '%Y-%m-%d'):\n",
    "        records = calc_temps(start, end)\n",
    "        max_tmp, avg_tmp, min_tmp = records[0]\n",
    "        temp_dict = {\"Max. Temp.\": max_tmp,\n",
    "                 \"Avg. Temp.\": avg_tmp,\n",
    "                 \"Min. Temp.\": min_tmp}\n",
    "        return jsonify(temp_dict)\n",
    "    else:\n",
    "        return \"Please make sure Start Date is always greater than End Date.\""
   ]
  },
  {
   "cell_type": "code",
   "execution_count": 27,
   "metadata": {},
   "outputs": [
    {
     "name": "stderr",
     "output_type": "stream",
     "text": [
      " * Running on http://127.0.0.1:5000/ (Press CTRL+C to quit)\n",
      "127.0.0.1 - - [06/Feb/2018 22:52:13] \"GET / HTTP/1.1\" 200 -\n",
      "127.0.0.1 - - [06/Feb/2018 22:52:30] \"GET /api/v1.0/2012-01-01 HTTP/1.1\" 200 -\n",
      "127.0.0.1 - - [06/Feb/2018 22:52:46] \"GET /api/v1.0/2012-01-01/2017-01-01 HTTP/1.1\" 200 -\n",
      "127.0.0.1 - - [06/Feb/2018 22:52:59] \"GET /api/v1.0/2017-01-01/2012-01-01 HTTP/1.1\" 200 -\n",
      "127.0.0.1 - - [06/Feb/2018 22:53:04] \"GET /api/v1.0/2012-01-01/2017-01-01 HTTP/1.1\" 200 -\n",
      "127.0.0.1 - - [06/Feb/2018 22:53:05] \"GET /api/v1.0/2012-01-01 HTTP/1.1\" 200 -\n",
      "127.0.0.1 - - [06/Feb/2018 22:53:06] \"GET / HTTP/1.1\" 200 -\n",
      "127.0.0.1 - - [06/Feb/2018 22:53:19] \"GET /api/v1.0/tobs HTTP/1.1\" 200 -\n",
      "127.0.0.1 - - [06/Feb/2018 22:53:22] \"GET / HTTP/1.1\" 200 -\n",
      "127.0.0.1 - - [06/Feb/2018 22:53:33] \"GET /api/v1.0/stations HTTP/1.1\" 200 -\n",
      "127.0.0.1 - - [06/Feb/2018 22:53:36] \"GET / HTTP/1.1\" 200 -\n",
      "127.0.0.1 - - [06/Feb/2018 22:53:45] \"GET /api/v1.0/precipitation HTTP/1.1\" 200 -\n"
     ]
    }
   ],
   "source": [
    "# Create your app.run statement here\n",
    "if __name__ == '__main__':\n",
    "    app.run()"
   ]
  }
 ],
 "metadata": {
  "kernelspec": {
   "display_name": "Python 3",
   "language": "python",
   "name": "python3"
  },
  "language_info": {
   "codemirror_mode": {
    "name": "ipython",
    "version": 3
   },
   "file_extension": ".py",
   "mimetype": "text/x-python",
   "name": "python",
   "nbconvert_exporter": "python",
   "pygments_lexer": "ipython3",
   "version": "3.6.3"
  }
 },
 "nbformat": 4,
 "nbformat_minor": 2
}
